{
  "nbformat": 4,
  "nbformat_minor": 0,
  "metadata": {
    "colab": {
      "provenance": [],
      "mount_file_id": "1eZ9EWkcx5R7tqNnQRNCk7_PxJKIq0eNT",
      "authorship_tag": "ABX9TyMRhX5EHPfjPH+5O69tfPbg",
      "include_colab_link": true
    },
    "kernelspec": {
      "name": "python3",
      "display_name": "Python 3"
    },
    "language_info": {
      "name": "python"
    }
  },
  "cells": [
    {
      "cell_type": "markdown",
      "metadata": {
        "id": "view-in-github",
        "colab_type": "text"
      },
      "source": [
        "<a href=\"https://colab.research.google.com/github/arjunrajaazure/PythonPrograms/blob/main/Untitled2.ipynb\" target=\"_parent\"><img src=\"https://colab.research.google.com/assets/colab-badge.svg\" alt=\"Open In Colab\"/></a>"
      ]
    },
    {
      "cell_type": "code",
      "execution_count": 5,
      "metadata": {
        "colab": {
          "base_uri": "https://localhost:8080/"
        },
        "id": "EZOxNm2XA-tq",
        "outputId": "e4b8d9b2-934a-47e5-e65f-9791b5f33b6a"
      },
      "outputs": [
        {
          "output_type": "stream",
          "name": "stdout",
          "text": [
            "The color of tire is: Black\n",
            "The size of tire is: 12\n"
          ]
        }
      ],
      "source": [
        "class car:\n",
        "  def tire(self, color, size):\n",
        "    print('The color of tire is: Black')\n",
        "    print('The size of tire is: 12')\n",
        "\n",
        "# v1 = car()\n",
        "v1.tire('black', 12)"
      ]
    },
    {
      "cell_type": "code",
      "source": [],
      "metadata": {
        "id": "w4PyuBuxCK17"
      },
      "execution_count": null,
      "outputs": []
    }
  ]
}